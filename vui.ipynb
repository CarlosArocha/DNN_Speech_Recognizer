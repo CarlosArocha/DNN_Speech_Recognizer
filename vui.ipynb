{
 "cells": [
  {
   "cell_type": "code",
   "execution_count": 1,
   "id": "0d4cfe96",
   "metadata": {},
   "outputs": [
    {
     "name": "stderr",
     "output_type": "stream",
     "text": [
      "OMP: Info #276: omp_set_nested routine deprecated, please use omp_set_max_active_levels instead.\n"
     ]
    }
   ],
   "source": [
    "from data_generator import vis_train_features, plot_raw_audio\n",
    "from data_generator import plot_spectrogram_feature\n",
    "from data_generator import plot_mfcc_feature\n",
    "from IPython.display import Markdown, display\n",
    "from mpl_toolkits.axes_grid1 import make_axes_locatable\n",
    "\n",
    "from keras.backend import set_session\n",
    "import tensorflow as tf\n",
    "\n",
    "# import NN architectures for speech recognition\n",
    "from sample_models import *\n",
    "# import function for training acoustic model\n",
    "from train_utils import train_model\n",
    "\n",
    "import matplotlib.pyplot as plt\n",
    "import json\n",
    "import os\n",
    "import numpy as np\n",
    "import soundfile as sf\n",
    "import miniaudio\n",
    "import array"
   ]
  },
  {
   "cell_type": "code",
   "execution_count": 2,
   "id": "ec7af304",
   "metadata": {},
   "outputs": [],
   "source": [
    "wk_directory = '/Users/carlosarocha/Dropbox/AI/GITHUB/UDACITY/NLP/' +\\\n",
    "    'DNN_Speech_Recognizer'\n",
    "os.chdir(wk_directory)\n",
    "data_directory_test = '/Volumes/OutSSD/DATA/NLP/LibriSpeech/dev-clean'\n",
    "data_directory_valid = '/Volumes/OutSSD/DATA/NLP/LibriSpeech/test-clean'"
   ]
  },
  {
   "cell_type": "code",
   "execution_count": 3,
   "id": "21fe59a4",
   "metadata": {},
   "outputs": [
    {
     "name": "stdout",
     "output_type": "stream",
     "text": [
      "Metal device set to: Apple M1 Max\n"
     ]
    },
    {
     "name": "stderr",
     "output_type": "stream",
     "text": [
      "2022-08-01 20:43:02.625096: I tensorflow/core/common_runtime/pluggable_device/pluggable_device_factory.cc:305] Could not identify NUMA node of platform GPU ID 0, defaulting to 0. Your kernel may not have been built with NUMA support.\n",
      "2022-08-01 20:43:02.625327: I tensorflow/core/common_runtime/pluggable_device/pluggable_device_factory.cc:271] Created TensorFlow device (/job:localhost/replica:0/task:0/device:GPU:0 with 0 MB memory) -> physical PluggableDevice (device: 0, name: METAL, pci bus id: <undefined>)\n"
     ]
    }
   ],
   "source": [
    "config = tf.compat.v1.ConfigProto()\n",
    "config.gpu_options.per_process_gpu_memory_fraction = 0.5\n",
    "set_session(tf.compat.v1.Session(config=config))"
   ]
  },
  {
   "cell_type": "code",
   "execution_count": 4,
   "id": "8f72e947",
   "metadata": {},
   "outputs": [
    {
     "name": "stdout",
     "output_type": "stream",
     "text": [
      "WARNING:tensorflow:Layer rnn1 will not use cuDNN kernels since it doesn't meet the criteria. It will use a generic GPU kernel as fallback when running on GPU.\n"
     ]
    },
    {
     "name": "stderr",
     "output_type": "stream",
     "text": [
      "2022-08-01 20:43:02.889617: I tensorflow/core/common_runtime/pluggable_device/pluggable_device_factory.cc:305] Could not identify NUMA node of platform GPU ID 0, defaulting to 0. Your kernel may not have been built with NUMA support.\n",
      "2022-08-01 20:43:02.889649: I tensorflow/core/common_runtime/pluggable_device/pluggable_device_factory.cc:271] Created TensorFlow device (/job:localhost/replica:0/task:0/device:GPU:0 with 0 MB memory) -> physical PluggableDevice (device: 0, name: METAL, pci bus id: <undefined>)\n"
     ]
    },
    {
     "name": "stdout",
     "output_type": "stream",
     "text": [
      "Model: \"model\"\n",
      "_________________________________________________________________\n",
      " Layer (type)                Output Shape              Param #   \n",
      "=================================================================\n",
      " the_input (InputLayer)      [(None, None, 161)]       0         \n",
      "                                                                 \n",
      " conv0D (Conv1D)             (None, None, 5)           8860      \n",
      "                                                                 \n",
      " bn_conv_0d (BatchNormalizat  (None, None, 5)          20        \n",
      " ion)                                                            \n",
      "                                                                 \n",
      " dropout (Dropout)           (None, None, 5)           0         \n",
      "                                                                 \n",
      " rnn1 (GRU)                  (None, None, 100)         32100     \n",
      "                                                                 \n",
      " batch_normalization (BatchN  (None, None, 100)        400       \n",
      " ormalization)                                                   \n",
      "                                                                 \n",
      " dropout_1 (Dropout)         (None, None, 100)         0         \n",
      "                                                                 \n",
      " time_distributed (TimeDistr  (None, None, 200)        20200     \n",
      " ibuted)                                                         \n",
      "                                                                 \n",
      " dropout_2 (Dropout)         (None, None, 200)         0         \n",
      "                                                                 \n",
      " time_distributed_1 (TimeDis  (None, None, 29)         5829      \n",
      " tributed)                                                       \n",
      "                                                                 \n",
      " softmax (Activation)        (None, None, 29)          0         \n",
      "                                                                 \n",
      "=================================================================\n",
      "Total params: 67,409\n",
      "Trainable params: 67,199\n",
      "Non-trainable params: 210\n",
      "_________________________________________________________________\n",
      "None\n"
     ]
    }
   ],
   "source": [
    "model_end = final_model(input_dim=161,\n",
    "                        filters=5,\n",
    "                        kernel_size=11,\n",
    "                        conv_stride=1,\n",
    "                        conv_border_mode='valid',\n",
    "                        recur_layers=1,\n",
    "                        dropout_cnn=0.1,\n",
    "                        dropout_gru=0.5,\n",
    "                        use_bias=False,\n",
    "                        bi=False,\n",
    "                        units=100)"
   ]
  },
  {
   "cell_type": "code",
   "execution_count": 5,
   "id": "c6685dc8",
   "metadata": {},
   "outputs": [
    {
     "name": "stdout",
     "output_type": "stream",
     "text": [
      "[PhysicalDevice(name='/physical_device:CPU:0', device_type='CPU'), PhysicalDevice(name='/physical_device:GPU:0', device_type='GPU')]\n",
      "Num GPUs Available:  1\n"
     ]
    }
   ],
   "source": [
    "print(tf.config.list_physical_devices())\n",
    "print(\"Num GPUs Available: \",\n",
    "      len(tf.config.experimental.list_physical_devices('GPU')))"
   ]
  },
  {
   "cell_type": "code",
   "execution_count": null,
   "id": "f4be842f",
   "metadata": {},
   "outputs": [
    {
     "name": "stdout",
     "output_type": "stream",
     "text": [
      "Epoch 1/5\n"
     ]
    },
    {
     "name": "stderr",
     "output_type": "stream",
     "text": [
      "2022-08-01 20:43:12.787035: W tensorflow/core/platform/profile_utils/cpu_utils.cc:128] Failed to get CPU frequency: 0 Hz\n",
      "2022-08-01 20:43:13.302908: I tensorflow/core/grappler/optimizers/custom_graph_optimizer_registry.cc:113] Plugin optimizer for device_type GPU is enabled.\n"
     ]
    }
   ],
   "source": [
    "train_model(input_to_softmax=model_end,\n",
    "            pickle_path='model_end.pickle',\n",
    "            save_model_path='model_end.h5',\n",
    "            epochs=5,\n",
    "            spectrogram=True,\n",
    "            verbose=2)"
   ]
  },
  {
   "cell_type": "code",
   "execution_count": null,
   "id": "4fe7c23c",
   "metadata": {},
   "outputs": [],
   "source": []
  }
 ],
 "metadata": {
  "kernelspec": {
   "display_name": "Python 3 (ipykernel)",
   "language": "python",
   "name": "python3"
  },
  "language_info": {
   "codemirror_mode": {
    "name": "ipython",
    "version": 3
   },
   "file_extension": ".py",
   "mimetype": "text/x-python",
   "name": "python",
   "nbconvert_exporter": "python",
   "pygments_lexer": "ipython3",
   "version": "3.10.5"
  }
 },
 "nbformat": 4,
 "nbformat_minor": 5
}

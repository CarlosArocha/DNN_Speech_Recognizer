{
 "cells": [
  {
   "cell_type": "code",
   "execution_count": 1,
   "id": "cdaba0e3",
   "metadata": {},
   "outputs": [
    {
     "name": "stdout",
     "output_type": "stream",
     "text": [
      "TensorFlow version: 2.9.2\n"
     ]
    }
   ],
   "source": [
    "import tensorflow as tf\n",
    "print(\"TensorFlow version:\", tf.__version__)"
   ]
  },
  {
   "cell_type": "code",
   "execution_count": 2,
   "id": "6f336545",
   "metadata": {},
   "outputs": [
    {
     "name": "stdout",
     "output_type": "stream",
     "text": [
      "CPU times: user 168 ms, sys: 41.1 ms, total: 209 ms\n",
      "Wall time: 211 ms\n"
     ]
    }
   ],
   "source": [
    "%%time\n",
    "mnist = tf.keras.datasets.mnist\n",
    "\n",
    "(x_train, y_train), (x_test, y_test) = mnist.load_data()\n",
    "x_train, x_test = x_train / 255.0, x_test / 255.0"
   ]
  },
  {
   "cell_type": "code",
   "execution_count": 3,
   "id": "204e7028",
   "metadata": {},
   "outputs": [
    {
     "name": "stdout",
     "output_type": "stream",
     "text": [
      "Metal device set to: Apple M1 Max\n",
      "CPU times: user 60 ms, sys: 33.8 ms, total: 93.8 ms\n",
      "Wall time: 91.4 ms\n"
     ]
    },
    {
     "name": "stderr",
     "output_type": "stream",
     "text": [
      "2022-08-01 20:59:03.541228: I tensorflow/core/common_runtime/pluggable_device/pluggable_device_factory.cc:305] Could not identify NUMA node of platform GPU ID 0, defaulting to 0. Your kernel may not have been built with NUMA support.\n",
      "2022-08-01 20:59:03.541841: I tensorflow/core/common_runtime/pluggable_device/pluggable_device_factory.cc:271] Created TensorFlow device (/job:localhost/replica:0/task:0/device:GPU:0 with 0 MB memory) -> physical PluggableDevice (device: 0, name: METAL, pci bus id: <undefined>)\n"
     ]
    }
   ],
   "source": [
    "%%time\n",
    "model = tf.keras.models.Sequential([\n",
    "  tf.keras.layers.Flatten(input_shape=(28, 28)),\n",
    "  tf.keras.layers.Dense(128, activation='relu'),\n",
    "  tf.keras.layers.Dropout(0.2),\n",
    "  tf.keras.layers.Dense(10)\n",
    "])\n",
    "loss_fn = tf.keras.losses.SparseCategoricalCrossentropy(from_logits=True)\n",
    "model.compile(optimizer='adam',\n",
    "              loss=loss_fn,\n",
    "              metrics=['accuracy'])"
   ]
  },
  {
   "cell_type": "code",
   "execution_count": 7,
   "id": "65638fc6",
   "metadata": {},
   "outputs": [
    {
     "name": "stdout",
     "output_type": "stream",
     "text": [
      "Epoch 1/10\n",
      "1875/1875 - 7s - loss: 0.0512 - accuracy: 0.9832 - 7s/epoch - 4ms/step\n",
      "Epoch 2/10\n",
      "1875/1875 - 7s - loss: 0.0444 - accuracy: 0.9850 - 7s/epoch - 4ms/step\n",
      "Epoch 3/10\n",
      "1875/1875 - 7s - loss: 0.0417 - accuracy: 0.9863 - 7s/epoch - 4ms/step\n",
      "Epoch 4/10\n",
      "1875/1875 - 7s - loss: 0.0356 - accuracy: 0.9880 - 7s/epoch - 4ms/step\n",
      "Epoch 5/10\n",
      "1875/1875 - 7s - loss: 0.0352 - accuracy: 0.9884 - 7s/epoch - 4ms/step\n",
      "Epoch 6/10\n",
      "1875/1875 - 7s - loss: 0.0327 - accuracy: 0.9891 - 7s/epoch - 4ms/step\n",
      "Epoch 7/10\n",
      "1875/1875 - 7s - loss: 0.0284 - accuracy: 0.9906 - 7s/epoch - 4ms/step\n",
      "Epoch 8/10\n",
      "1875/1875 - 7s - loss: 0.0283 - accuracy: 0.9906 - 7s/epoch - 4ms/step\n",
      "Epoch 9/10\n",
      "1875/1875 - 7s - loss: 0.0239 - accuracy: 0.9917 - 7s/epoch - 4ms/step\n",
      "Epoch 10/10\n",
      "1875/1875 - 7s - loss: 0.0263 - accuracy: 0.9907 - 7s/epoch - 4ms/step\n",
      "CPU times: user 58.9 s, sys: 45.8 s, total: 1min 44s\n",
      "Wall time: 1min 7s\n"
     ]
    },
    {
     "data": {
      "text/plain": [
       "<keras.callbacks.History at 0x308636320>"
      ]
     },
     "execution_count": 7,
     "metadata": {},
     "output_type": "execute_result"
    }
   ],
   "source": [
    "%%time\n",
    "model.fit(x_train, y_train, epochs=10, verbose=2)"
   ]
  },
  {
   "cell_type": "code",
   "execution_count": null,
   "id": "79ec1e1b",
   "metadata": {},
   "outputs": [],
   "source": []
  }
 ],
 "metadata": {
  "kernelspec": {
   "display_name": "Python 3 (ipykernel)",
   "language": "python",
   "name": "python3"
  },
  "language_info": {
   "codemirror_mode": {
    "name": "ipython",
    "version": 3
   },
   "file_extension": ".py",
   "mimetype": "text/x-python",
   "name": "python",
   "nbconvert_exporter": "python",
   "pygments_lexer": "ipython3",
   "version": "3.10.5"
  }
 },
 "nbformat": 4,
 "nbformat_minor": 5
}
